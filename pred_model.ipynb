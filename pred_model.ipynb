{
 "cells": [
  {
   "cell_type": "code",
   "execution_count": 2,
   "metadata": {},
   "outputs": [],
   "source": [
    "import numpy as np\n",
    "import pandas as pd\n",
    "import os\n",
    "\n",
    "from nltk.corpus import stopwords\n",
    "from nltk.stem.porter import PorterStemmer\n",
    "from sklearn.feature_extraction.text import CountVectorizer\n",
    "import nltk\n",
    "import string\n",
    "from wordcloud import WordCloud, STOPWORDS\n",
    "from nltk.tokenize import RegexpTokenizer\n",
    "import re\n",
    "\n",
    "from sklearn.model_selection import train_test_split\n",
    "\n",
    "from sklearn.tree import DecisionTreeClassifier\n",
    "from sklearn.svm import SVC\n",
    "from sklearn.linear_model import LogisticRegression\n",
    "from sklearn.naive_bayes import MultinomialNB\n",
    "\n",
    "from sklearn.metrics import classification_report,confusion_matrix\n",
    "import matplotlib.pyplot as plt"
   ]
  },
  {
   "cell_type": "code",
   "execution_count": 3,
   "metadata": {},
   "outputs": [],
   "source": [
    "train=pd.read_csv('train.csv')\n",
    "test=pd.read_csv(\"test.csv\")"
   ]
  },
  {
   "cell_type": "code",
   "execution_count": 4,
   "metadata": {},
   "outputs": [
    {
     "name": "stdout",
     "output_type": "stream",
     "text": [
      "<class 'pandas.core.frame.DataFrame'>\n",
      "RangeIndex: 82657 entries, 0 to 82656\n",
      "Data columns (total 12 columns):\n",
      "user_name             63264 non-null object\n",
      "country               82622 non-null object\n",
      "review_title          82657 non-null object\n",
      "review_description    82657 non-null object\n",
      "designation           59010 non-null object\n",
      "points                82657 non-null int64\n",
      "price                 77088 non-null float64\n",
      "province              82622 non-null object\n",
      "region_1              69903 non-null object\n",
      "region_2              35949 non-null object\n",
      "winery                82657 non-null object\n",
      "variety               82657 non-null object\n",
      "dtypes: float64(1), int64(1), object(10)\n",
      "memory usage: 7.6+ MB\n",
      "None\n",
      "(82657, 12)\n"
     ]
    }
   ],
   "source": [
    "print(train.info())\n",
    "print(train.shape)"
   ]
  },
  {
   "cell_type": "code",
   "execution_count": 5,
   "metadata": {},
   "outputs": [
    {
     "name": "stdout",
     "output_type": "stream",
     "text": [
      "<class 'pandas.core.frame.DataFrame'>\n",
      "RangeIndex: 20665 entries, 0 to 20664\n",
      "Data columns (total 11 columns):\n",
      "user_name             15927 non-null object\n",
      "country               20661 non-null object\n",
      "review_title          20665 non-null object\n",
      "review_description    20665 non-null object\n",
      "designation           14676 non-null object\n",
      "points                20665 non-null int64\n",
      "price                 19271 non-null float64\n",
      "province              20661 non-null object\n",
      "region_1              17351 non-null object\n",
      "region_2              8914 non-null object\n",
      "winery                20665 non-null object\n",
      "dtypes: float64(1), int64(1), object(9)\n",
      "memory usage: 1.7+ MB\n",
      "None\n",
      "(20665, 11)\n"
     ]
    }
   ],
   "source": [
    "print(test.info())\n",
    "print(test.shape)"
   ]
  },
  {
   "cell_type": "code",
   "execution_count": 6,
   "metadata": {},
   "outputs": [
    {
     "data": {
      "text/html": [
       "<div>\n",
       "<style scoped>\n",
       "    .dataframe tbody tr th:only-of-type {\n",
       "        vertical-align: middle;\n",
       "    }\n",
       "\n",
       "    .dataframe tbody tr th {\n",
       "        vertical-align: top;\n",
       "    }\n",
       "\n",
       "    .dataframe thead th {\n",
       "        text-align: right;\n",
       "    }\n",
       "</style>\n",
       "<table border=\"1\" class=\"dataframe\">\n",
       "  <thead>\n",
       "    <tr style=\"text-align: right;\">\n",
       "      <th></th>\n",
       "      <th>Total</th>\n",
       "      <th>Percent</th>\n",
       "    </tr>\n",
       "  </thead>\n",
       "  <tbody>\n",
       "    <tr>\n",
       "      <td>region_2</td>\n",
       "      <td>46708</td>\n",
       "      <td>56.508221</td>\n",
       "    </tr>\n",
       "    <tr>\n",
       "      <td>designation</td>\n",
       "      <td>23647</td>\n",
       "      <td>28.608587</td>\n",
       "    </tr>\n",
       "    <tr>\n",
       "      <td>user_name</td>\n",
       "      <td>19393</td>\n",
       "      <td>23.462018</td>\n",
       "    </tr>\n",
       "    <tr>\n",
       "      <td>region_1</td>\n",
       "      <td>12754</td>\n",
       "      <td>15.430030</td>\n",
       "    </tr>\n",
       "    <tr>\n",
       "      <td>price</td>\n",
       "      <td>5569</td>\n",
       "      <td>6.737481</td>\n",
       "    </tr>\n",
       "    <tr>\n",
       "      <td>province</td>\n",
       "      <td>35</td>\n",
       "      <td>0.042344</td>\n",
       "    </tr>\n",
       "    <tr>\n",
       "      <td>country</td>\n",
       "      <td>35</td>\n",
       "      <td>0.042344</td>\n",
       "    </tr>\n",
       "    <tr>\n",
       "      <td>variety</td>\n",
       "      <td>0</td>\n",
       "      <td>0.000000</td>\n",
       "    </tr>\n",
       "    <tr>\n",
       "      <td>winery</td>\n",
       "      <td>0</td>\n",
       "      <td>0.000000</td>\n",
       "    </tr>\n",
       "    <tr>\n",
       "      <td>points</td>\n",
       "      <td>0</td>\n",
       "      <td>0.000000</td>\n",
       "    </tr>\n",
       "    <tr>\n",
       "      <td>review_description</td>\n",
       "      <td>0</td>\n",
       "      <td>0.000000</td>\n",
       "    </tr>\n",
       "    <tr>\n",
       "      <td>review_title</td>\n",
       "      <td>0</td>\n",
       "      <td>0.000000</td>\n",
       "    </tr>\n",
       "  </tbody>\n",
       "</table>\n",
       "</div>"
      ],
      "text/plain": [
       "                    Total    Percent\n",
       "region_2            46708  56.508221\n",
       "designation         23647  28.608587\n",
       "user_name           19393  23.462018\n",
       "region_1            12754  15.430030\n",
       "price                5569   6.737481\n",
       "province               35   0.042344\n",
       "country                35   0.042344\n",
       "variety                 0   0.000000\n",
       "winery                  0   0.000000\n",
       "points                  0   0.000000\n",
       "review_description      0   0.000000\n",
       "review_title            0   0.000000"
      ]
     },
     "execution_count": 6,
     "metadata": {},
     "output_type": "execute_result"
    }
   ],
   "source": [
    "total = train.isnull().sum().sort_values(ascending = False)\n",
    "percent = (train.isnull().sum()/train.isnull().count()*100).sort_values(ascending = False)\n",
    "missing_train  = pd.concat([total, percent], axis=1, keys=['Total', 'Percent'])\n",
    "missing_train"
   ]
  },
  {
   "cell_type": "code",
   "execution_count": 7,
   "metadata": {},
   "outputs": [
    {
     "data": {
      "text/plain": [
       "Pinot Noir                    10587\n",
       "Chardonnay                     9403\n",
       "Cabernet Sauvignon             7552\n",
       "Red Blend                      7166\n",
       "Bordeaux-style Red Blend       5497\n",
       "Riesling                       4148\n",
       "Sauvignon Blanc                4011\n",
       "Syrah                          3316\n",
       "Rosé                           2831\n",
       "Merlot                         2471\n",
       "Nebbiolo                       2242\n",
       "Zinfandel                      2209\n",
       "Sangiovese                     2165\n",
       "Malbec                         2119\n",
       "Portuguese Red                 1969\n",
       "White Blend                    1896\n",
       "Sparkling Blend                1739\n",
       "Tempranillo                    1448\n",
       "Rhône-style Red Blend          1182\n",
       "Pinot Gris                     1148\n",
       "Champagne Blend                1133\n",
       "Cabernet Franc                 1095\n",
       "Grüner Veltliner               1055\n",
       "Portuguese White                896\n",
       "Pinot Grigio                    873\n",
       "Bordeaux-style White Blend      850\n",
       "Gewürztraminer                  840\n",
       "Gamay                           816\n",
       "Name: variety, dtype: int64"
      ]
     },
     "execution_count": 7,
     "metadata": {},
     "output_type": "execute_result"
    }
   ],
   "source": [
    "train['variety'].value_counts()"
   ]
  },
  {
   "cell_type": "code",
   "execution_count": 8,
   "metadata": {},
   "outputs": [
    {
     "name": "stderr",
     "output_type": "stream",
     "text": [
      "C:\\ANACONDA\\lib\\site-packages\\ipykernel_launcher.py:1: FutureWarning: Sorting because non-concatenation axis is not aligned. A future version\n",
      "of pandas will change to not sort by default.\n",
      "\n",
      "To accept the future behavior, pass 'sort=False'.\n",
      "\n",
      "To retain the current behavior and silence the warning, pass 'sort=True'.\n",
      "\n",
      "  \"\"\"Entry point for launching an IPython kernel.\n"
     ]
    },
    {
     "data": {
      "text/html": [
       "<div>\n",
       "<style scoped>\n",
       "    .dataframe tbody tr th:only-of-type {\n",
       "        vertical-align: middle;\n",
       "    }\n",
       "\n",
       "    .dataframe tbody tr th {\n",
       "        vertical-align: top;\n",
       "    }\n",
       "\n",
       "    .dataframe thead th {\n",
       "        text-align: right;\n",
       "    }\n",
       "</style>\n",
       "<table border=\"1\" class=\"dataframe\">\n",
       "  <thead>\n",
       "    <tr style=\"text-align: right;\">\n",
       "      <th></th>\n",
       "      <th>country</th>\n",
       "      <th>designation</th>\n",
       "      <th>points</th>\n",
       "      <th>price</th>\n",
       "      <th>province</th>\n",
       "      <th>region_1</th>\n",
       "      <th>region_2</th>\n",
       "      <th>review_description</th>\n",
       "      <th>review_title</th>\n",
       "      <th>user_name</th>\n",
       "      <th>variety</th>\n",
       "      <th>winery</th>\n",
       "    </tr>\n",
       "  </thead>\n",
       "  <tbody>\n",
       "    <tr>\n",
       "      <td>0</td>\n",
       "      <td>Australia</td>\n",
       "      <td>Peace Family Vineyard</td>\n",
       "      <td>83</td>\n",
       "      <td>10.0</td>\n",
       "      <td>Australia Other</td>\n",
       "      <td>South Eastern Australia</td>\n",
       "      <td>NaN</td>\n",
       "      <td>Classic Chardonnay aromas of apple, pear and h...</td>\n",
       "      <td>Andrew Peace 2007 Peace Family Vineyard Chardo...</td>\n",
       "      <td>NaN</td>\n",
       "      <td>Chardonnay</td>\n",
       "      <td>Andrew Peace</td>\n",
       "    </tr>\n",
       "    <tr>\n",
       "      <td>1</td>\n",
       "      <td>US</td>\n",
       "      <td>NaN</td>\n",
       "      <td>89</td>\n",
       "      <td>15.0</td>\n",
       "      <td>Washington</td>\n",
       "      <td>Columbia Valley (WA)</td>\n",
       "      <td>Columbia Valley</td>\n",
       "      <td>This wine is near equal parts Syrah and Merlot...</td>\n",
       "      <td>North by Northwest 2014 Red (Columbia Valley (...</td>\n",
       "      <td>@wawinereport</td>\n",
       "      <td>Red Blend</td>\n",
       "      <td>North by Northwest</td>\n",
       "    </tr>\n",
       "    <tr>\n",
       "      <td>2</td>\n",
       "      <td>Italy</td>\n",
       "      <td>Conca</td>\n",
       "      <td>94</td>\n",
       "      <td>80.0</td>\n",
       "      <td>Piedmont</td>\n",
       "      <td>Barolo</td>\n",
       "      <td>NaN</td>\n",
       "      <td>Barolo Conca opens with inky dark concentratio...</td>\n",
       "      <td>Renato Ratti 2007 Conca  (Barolo)</td>\n",
       "      <td>NaN</td>\n",
       "      <td>Nebbiolo</td>\n",
       "      <td>Renato Ratti</td>\n",
       "    </tr>\n",
       "    <tr>\n",
       "      <td>3</td>\n",
       "      <td>France</td>\n",
       "      <td>L'Abbaye</td>\n",
       "      <td>87</td>\n",
       "      <td>22.0</td>\n",
       "      <td>Southwest France</td>\n",
       "      <td>Bergerac Sec</td>\n",
       "      <td>NaN</td>\n",
       "      <td>It's impressive what a small addition of Sauvi...</td>\n",
       "      <td>Domaine l'Ancienne Cure 2010 L'Abbaye White (B...</td>\n",
       "      <td>@vossroger</td>\n",
       "      <td>Bordeaux-style White Blend</td>\n",
       "      <td>Domaine l'Ancienne Cure</td>\n",
       "    </tr>\n",
       "    <tr>\n",
       "      <td>4</td>\n",
       "      <td>France</td>\n",
       "      <td>Le Cèdre Vintage</td>\n",
       "      <td>88</td>\n",
       "      <td>33.0</td>\n",
       "      <td>France Other</td>\n",
       "      <td>Vin de Liqueur</td>\n",
       "      <td>NaN</td>\n",
       "      <td>This ripe, sweet wine is rich and full of drie...</td>\n",
       "      <td>Château du Cèdre 2012 Le Cèdre Vintage Malbec ...</td>\n",
       "      <td>@vossroger</td>\n",
       "      <td>Malbec</td>\n",
       "      <td>Château du Cèdre</td>\n",
       "    </tr>\n",
       "  </tbody>\n",
       "</table>\n",
       "</div>"
      ],
      "text/plain": [
       "     country            designation  points  price          province  \\\n",
       "0  Australia  Peace Family Vineyard      83   10.0   Australia Other   \n",
       "1         US                    NaN      89   15.0        Washington   \n",
       "2      Italy                  Conca      94   80.0          Piedmont   \n",
       "3     France               L'Abbaye      87   22.0  Southwest France   \n",
       "4     France       Le Cèdre Vintage      88   33.0      France Other   \n",
       "\n",
       "                  region_1         region_2  \\\n",
       "0  South Eastern Australia              NaN   \n",
       "1     Columbia Valley (WA)  Columbia Valley   \n",
       "2                   Barolo              NaN   \n",
       "3             Bergerac Sec              NaN   \n",
       "4           Vin de Liqueur              NaN   \n",
       "\n",
       "                                  review_description  \\\n",
       "0  Classic Chardonnay aromas of apple, pear and h...   \n",
       "1  This wine is near equal parts Syrah and Merlot...   \n",
       "2  Barolo Conca opens with inky dark concentratio...   \n",
       "3  It's impressive what a small addition of Sauvi...   \n",
       "4  This ripe, sweet wine is rich and full of drie...   \n",
       "\n",
       "                                        review_title      user_name  \\\n",
       "0  Andrew Peace 2007 Peace Family Vineyard Chardo...            NaN   \n",
       "1  North by Northwest 2014 Red (Columbia Valley (...  @wawinereport   \n",
       "2                  Renato Ratti 2007 Conca  (Barolo)            NaN   \n",
       "3  Domaine l'Ancienne Cure 2010 L'Abbaye White (B...     @vossroger   \n",
       "4  Château du Cèdre 2012 Le Cèdre Vintage Malbec ...     @vossroger   \n",
       "\n",
       "                      variety                   winery  \n",
       "0                  Chardonnay             Andrew Peace  \n",
       "1                   Red Blend       North by Northwest  \n",
       "2                    Nebbiolo             Renato Ratti  \n",
       "3  Bordeaux-style White Blend  Domaine l'Ancienne Cure  \n",
       "4                      Malbec         Château du Cèdre  "
      ]
     },
     "execution_count": 8,
     "metadata": {},
     "output_type": "execute_result"
    }
   ],
   "source": [
    "df=pd.concat([train,test])\n",
    "df.head()"
   ]
  },
  {
   "cell_type": "code",
   "execution_count": 9,
   "metadata": {},
   "outputs": [
    {
     "data": {
      "text/plain": [
       "0        classic chardonnay aromas of apple  pear and h...\n",
       "1        this wine is near equal parts syrah and merlot...\n",
       "2        barolo conca opens with inky dark concentratio...\n",
       "3        it s impressive what a small addition of sauvi...\n",
       "4        this ripe  sweet wine is rich and full of drie...\n",
       "                               ...                        \n",
       "20660    clearly focused and fruit driven  this wine ha...\n",
       "20661    herbal tones of bay and rosemary are upfront o...\n",
       "20662    mocha cream  pencil shaving and dried herb aro...\n",
       "20663    loud citrus and berry aromas precede an overlo...\n",
       "20664    with very ripe fruit and firm tannins  this mo...\n",
       "Name: review_description, Length: 103322, dtype: object"
      ]
     },
     "execution_count": 9,
     "metadata": {},
     "output_type": "execute_result"
    }
   ],
   "source": [
    "df['review_description']= df['review_description'].str.lower()\n",
    "df['review_description']= df['review_description'].apply(lambda elem: re.sub('[^a-zA-Z]',' ', elem))  \n",
    "df['review_description']"
   ]
  },
  {
   "cell_type": "code",
   "execution_count": 10,
   "metadata": {},
   "outputs": [
    {
     "data": {
      "text/plain": [
       "0    [classic, chardonnay, aromas, of, apple, pear,...\n",
       "1    [this, wine, is, near, equal, parts, syrah, an...\n",
       "2    [barolo, conca, opens, with, inky, dark, conce...\n",
       "3    [it, s, impressive, what, a, small, addition, ...\n",
       "4    [this, ripe, sweet, wine, is, rich, and, full,...\n",
       "Name: review_description, dtype: object"
      ]
     },
     "execution_count": 10,
     "metadata": {},
     "output_type": "execute_result"
    }
   ],
   "source": [
    "tokenizer = RegexpTokenizer(r'\\w+')\n",
    "words_descriptions = df['review_description'].apply(tokenizer.tokenize)\n",
    "words_descriptions.head()"
   ]
  },
  {
   "cell_type": "code",
   "execution_count": 11,
   "metadata": {},
   "outputs": [
    {
     "data": {
      "text/plain": [
       "0        classic chardonnay aroma appl pear hay lead pa...\n",
       "1        wine near equal part syrah merlot balanc caber...\n",
       "2        barolo conca open inki dark concentr sooth aro...\n",
       "3        impress small addit sauvignon gri muscadel sau...\n",
       "4        ripe sweet wine rich full dri fresh fruit flav...\n",
       "                               ...                        \n",
       "20660    clearli focus fruit driven wine bonanza dark f...\n",
       "20661    herbal tone bay rosemari upfront nose copper p...\n",
       "20662    mocha cream pencil shave dri herb aroma set ba...\n",
       "20663    loud citru berri aroma preced overload palat c...\n",
       "20664    ripe fruit firm tannin mountain cab show attra...\n",
       "Name: description_cleaned, Length: 103322, dtype: object"
      ]
     },
     "execution_count": 11,
     "metadata": {},
     "output_type": "execute_result"
    }
   ],
   "source": [
    "stopword_list = stopwords.words('english')\n",
    "ps = PorterStemmer()\n",
    "words_descriptions = words_descriptions.apply(lambda elem: [word for word in elem if not word in stopword_list])\n",
    "words_descriptions = words_descriptions.apply(lambda elem: [ps.stem(word) for word in elem])\n",
    "df['description_cleaned'] = words_descriptions.apply(lambda elem: ' '.join(elem))\n",
    "df['description_cleaned']"
   ]
  },
  {
   "cell_type": "code",
   "execution_count": 12,
   "metadata": {},
   "outputs": [],
   "source": [
    "from sklearn.feature_extraction.text import CountVectorizer\n",
    "\n",
    "vect= CountVectorizer(max_features=1500)\n",
    "vectorized=vect.fit_transform(df['description_cleaned']).toarray()\n",
    "vectorizeddf=pd.DataFrame(vectorized)"
   ]
  },
  {
   "cell_type": "code",
   "execution_count": 13,
   "metadata": {},
   "outputs": [],
   "source": [
    "y=df['variety'].values\n",
    "y=y[:len(train)]\n",
    "X=vectorizeddf\n",
    "X_train, X_test, y_train, y_test = train_test_split(X[:len(train)], y, test_size = 0.20, random_state = 42)"
   ]
  },
  {
   "cell_type": "code",
   "execution_count": 14,
   "metadata": {},
   "outputs": [
    {
     "data": {
      "text/plain": [
       "0.5642390515364142"
      ]
     },
     "execution_count": 14,
     "metadata": {},
     "output_type": "execute_result"
    }
   ],
   "source": [
    "dt=DecisionTreeClassifier()\n",
    "dt.fit(X_train,y_train)\n",
    "dt.score(X_test,y_test)"
   ]
  },
  {
   "cell_type": "code",
   "execution_count": 15,
   "metadata": {},
   "outputs": [
    {
     "name": "stderr",
     "output_type": "stream",
     "text": [
      "C:\\ANACONDA\\lib\\site-packages\\sklearn\\linear_model\\logistic.py:432: FutureWarning: Default solver will be changed to 'lbfgs' in 0.22. Specify a solver to silence this warning.\n",
      "  FutureWarning)\n",
      "C:\\ANACONDA\\lib\\site-packages\\sklearn\\linear_model\\logistic.py:469: FutureWarning: Default multi_class will be changed to 'auto' in 0.22. Specify the multi_class option to silence this warning.\n",
      "  \"this warning.\", FutureWarning)\n"
     ]
    },
    {
     "data": {
      "text/plain": [
       "0.6847326397290104"
      ]
     },
     "execution_count": 15,
     "metadata": {},
     "output_type": "execute_result"
    }
   ],
   "source": [
    "lr=LogisticRegression(penalty='l2',random_state=42 ,max_iter=500)\n",
    "lr.fit(X_train,y_train)\n",
    "lr.score(X_test,y_test)"
   ]
  },
  {
   "cell_type": "code",
   "execution_count": 19,
   "metadata": {},
   "outputs": [
    {
     "name": "stdout",
     "output_type": "stream",
     "text": [
      "0.8487382224619010\n"
     ]
    }
   ],
   "source": [
    "svml=SVC(kernel='linear')\n",
    "svml.fit(X_train,y_train)\n",
    "svml.score(X_test,y_test)"
   ]
  },
  {
   "cell_type": "code",
   "execution_count": 20,
   "metadata": {},
   "outputs": [
    {
     "data": {
      "text/html": [
       "<div>\n",
       "<style scoped>\n",
       "    .dataframe tbody tr th:only-of-type {\n",
       "        vertical-align: middle;\n",
       "    }\n",
       "\n",
       "    .dataframe tbody tr th {\n",
       "        vertical-align: top;\n",
       "    }\n",
       "\n",
       "    .dataframe thead th {\n",
       "        text-align: right;\n",
       "    }\n",
       "</style>\n",
       "<table border=\"1\" class=\"dataframe\">\n",
       "  <thead>\n",
       "    <tr style=\"text-align: right;\">\n",
       "      <th></th>\n",
       "      <th>user_name</th>\n",
       "      <th>country</th>\n",
       "      <th>review_title</th>\n",
       "      <th>review_description</th>\n",
       "      <th>designation</th>\n",
       "      <th>points</th>\n",
       "      <th>price</th>\n",
       "      <th>province</th>\n",
       "      <th>region_1</th>\n",
       "      <th>region_2</th>\n",
       "      <th>winery</th>\n",
       "      <th>variety</th>\n",
       "    </tr>\n",
       "  </thead>\n",
       "  <tbody>\n",
       "    <tr>\n",
       "      <td>0</td>\n",
       "      <td>@paulgwine</td>\n",
       "      <td>US</td>\n",
       "      <td>Boedecker Cellars 2011 Athena Pinot Noir (Will...</td>\n",
       "      <td>Nicely differentiated from the companion Stewa...</td>\n",
       "      <td>Athena</td>\n",
       "      <td>88</td>\n",
       "      <td>35.0</td>\n",
       "      <td>Oregon</td>\n",
       "      <td>Willamette Valley</td>\n",
       "      <td>Willamette Valley</td>\n",
       "      <td>Boedecker Cellars</td>\n",
       "      <td>Pinot Noir</td>\n",
       "    </tr>\n",
       "    <tr>\n",
       "      <td>1</td>\n",
       "      <td>@wineschach</td>\n",
       "      <td>Argentina</td>\n",
       "      <td>Mendoza Vineyards 2012 Gran Reserva by Richard...</td>\n",
       "      <td>Charred, smoky, herbal aromas of blackberry tr...</td>\n",
       "      <td>Gran Reserva by Richard Bonvin</td>\n",
       "      <td>90</td>\n",
       "      <td>60.0</td>\n",
       "      <td>Mendoza Province</td>\n",
       "      <td>Mendoza</td>\n",
       "      <td>NaN</td>\n",
       "      <td>Mendoza Vineyards</td>\n",
       "      <td>Malbec</td>\n",
       "    </tr>\n",
       "    <tr>\n",
       "      <td>2</td>\n",
       "      <td>@vboone</td>\n",
       "      <td>US</td>\n",
       "      <td>Prime 2013 Chardonnay (Coombsville)</td>\n",
       "      <td>Slightly sour and funky in earth, this is a re...</td>\n",
       "      <td>NaN</td>\n",
       "      <td>87</td>\n",
       "      <td>38.0</td>\n",
       "      <td>California</td>\n",
       "      <td>Coombsville</td>\n",
       "      <td>Napa</td>\n",
       "      <td>Prime</td>\n",
       "      <td>Chardonnay</td>\n",
       "    </tr>\n",
       "    <tr>\n",
       "      <td>3</td>\n",
       "      <td>@wineschach</td>\n",
       "      <td>Argentina</td>\n",
       "      <td>Bodega Cuarto Dominio 2012 Chento Vineyard Sel...</td>\n",
       "      <td>This concentrated, midnight-black Malbec deliv...</td>\n",
       "      <td>Chento Vineyard Selection</td>\n",
       "      <td>91</td>\n",
       "      <td>20.0</td>\n",
       "      <td>Mendoza Province</td>\n",
       "      <td>Mendoza</td>\n",
       "      <td>NaN</td>\n",
       "      <td>Bodega Cuarto Dominio</td>\n",
       "      <td>Malbec</td>\n",
       "    </tr>\n",
       "    <tr>\n",
       "      <td>4</td>\n",
       "      <td>@kerinokeefe</td>\n",
       "      <td>Italy</td>\n",
       "      <td>SassodiSole 2012  Brunello di Montalcino</td>\n",
       "      <td>Earthy aromas suggesting grilled porcini, leat...</td>\n",
       "      <td>NaN</td>\n",
       "      <td>90</td>\n",
       "      <td>49.0</td>\n",
       "      <td>Tuscany</td>\n",
       "      <td>Brunello di Montalcino</td>\n",
       "      <td>NaN</td>\n",
       "      <td>SassodiSole</td>\n",
       "      <td>Sangiovese</td>\n",
       "    </tr>\n",
       "  </tbody>\n",
       "</table>\n",
       "</div>"
      ],
      "text/plain": [
       "      user_name    country                                       review_title  \\\n",
       "0   @paulgwine          US  Boedecker Cellars 2011 Athena Pinot Noir (Will...   \n",
       "1   @wineschach  Argentina  Mendoza Vineyards 2012 Gran Reserva by Richard...   \n",
       "2       @vboone         US                Prime 2013 Chardonnay (Coombsville)   \n",
       "3   @wineschach  Argentina  Bodega Cuarto Dominio 2012 Chento Vineyard Sel...   \n",
       "4  @kerinokeefe      Italy           SassodiSole 2012  Brunello di Montalcino   \n",
       "\n",
       "                                  review_description  \\\n",
       "0  Nicely differentiated from the companion Stewa...   \n",
       "1  Charred, smoky, herbal aromas of blackberry tr...   \n",
       "2  Slightly sour and funky in earth, this is a re...   \n",
       "3  This concentrated, midnight-black Malbec deliv...   \n",
       "4  Earthy aromas suggesting grilled porcini, leat...   \n",
       "\n",
       "                      designation  points  price          province  \\\n",
       "0                          Athena      88   35.0            Oregon   \n",
       "1  Gran Reserva by Richard Bonvin      90   60.0  Mendoza Province   \n",
       "2                             NaN      87   38.0        California   \n",
       "3       Chento Vineyard Selection      91   20.0  Mendoza Province   \n",
       "4                             NaN      90   49.0           Tuscany   \n",
       "\n",
       "                 region_1           region_2                 winery  \\\n",
       "0       Willamette Valley  Willamette Valley      Boedecker Cellars   \n",
       "1                 Mendoza                NaN      Mendoza Vineyards   \n",
       "2             Coombsville               Napa                  Prime   \n",
       "3                 Mendoza                NaN  Bodega Cuarto Dominio   \n",
       "4  Brunello di Montalcino                NaN            SassodiSole   \n",
       "\n",
       "      variety  \n",
       "0  Pinot Noir  \n",
       "1      Malbec  \n",
       "2  Chardonnay  \n",
       "3      Malbec  \n",
       "4  Sangiovese  "
      ]
     },
     "execution_count": 20,
     "metadata": {},
     "output_type": "execute_result"
    }
   ],
   "source": [
    "X_output=X[len(train):]\n",
    "test['variety']=svml.predict(X_output)\n",
    "test.head()"
   ]
  },
  {
   "cell_type": "code",
   "execution_count": 21,
   "metadata": {},
   "outputs": [],
   "source": [
    "test.to_csv('newtest.csv') "
   ]
  }
 ],
 "metadata": {
  "kernelspec": {
   "display_name": "Python 3",
   "language": "python",
   "name": "python3"
  },
  "language_info": {
   "codemirror_mode": {
    "name": "ipython",
    "version": 3
   },
   "file_extension": ".py",
   "mimetype": "text/x-python",
   "name": "python",
   "nbconvert_exporter": "python",
   "pygments_lexer": "ipython3",
   "version": "3.7.4"
  }
 },
 "nbformat": 4,
 "nbformat_minor": 2
}
